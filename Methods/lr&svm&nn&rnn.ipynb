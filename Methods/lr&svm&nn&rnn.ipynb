{
 "cells": [
  {
   "cell_type": "code",
   "execution_count": 1,
   "metadata": {},
   "outputs": [],
   "source": [
    "import pandas as pd\n",
    "import numpy as np\n",
    "import matplotlib.pyplot as plt\n",
    "import seaborn as sns\n",
    "from sklearn.svm import SVR\n",
    "from sklearn.linear_model import LinearRegression\n",
    "from sklearn.model_selection import train_test_split\n",
    "from sklearn.metrics import accuracy_score,r2_score,confusion_matrix\n",
    "%matplotlib inline"
   ]
  },
  {
   "cell_type": "code",
   "execution_count": 2,
   "metadata": {},
   "outputs": [],
   "source": [
    "dataset=pd.read_csv('111.csv')"
   ]
  },
  {
   "cell_type": "code",
   "execution_count": 3,
   "metadata": {},
   "outputs": [
    {
     "data": {
      "text/plain": [
       "(1118, 11)"
      ]
     },
     "execution_count": 3,
     "metadata": {},
     "output_type": "execute_result"
    }
   ],
   "source": [
    "dataset.shape"
   ]
  },
  {
   "cell_type": "code",
   "execution_count": 4,
   "metadata": {},
   "outputs": [
    {
     "data": {
      "text/html": [
       "<div>\n",
       "<style scoped>\n",
       "    .dataframe tbody tr th:only-of-type {\n",
       "        vertical-align: middle;\n",
       "    }\n",
       "\n",
       "    .dataframe tbody tr th {\n",
       "        vertical-align: top;\n",
       "    }\n",
       "\n",
       "    .dataframe thead th {\n",
       "        text-align: right;\n",
       "    }\n",
       "</style>\n",
       "<table border=\"1\" class=\"dataframe\">\n",
       "  <thead>\n",
       "    <tr style=\"text-align: right;\">\n",
       "      <th></th>\n",
       "      <th>Date</th>\n",
       "      <th>Time</th>\n",
       "      <th>S&amp;P</th>\n",
       "      <th>Dow_Jones</th>\n",
       "      <th>NASDAQ</th>\n",
       "      <th>Skype（Microsoft）</th>\n",
       "      <th>Cisco</th>\n",
       "      <th>Facebook</th>\n",
       "      <th>Trading_Volume</th>\n",
       "      <th>Prev_Avg_Price</th>\n",
       "      <th>True_Price</th>\n",
       "    </tr>\n",
       "  </thead>\n",
       "  <tbody>\n",
       "    <tr>\n",
       "      <th>0</th>\n",
       "      <td>2019/04/18</td>\n",
       "      <td>2019/04/18 11:30</td>\n",
       "      <td>2897.48</td>\n",
       "      <td>26503.69</td>\n",
       "      <td>7972.08</td>\n",
       "      <td>120.46</td>\n",
       "      <td>54.51</td>\n",
       "      <td>177.82</td>\n",
       "      <td>6786527</td>\n",
       "      <td>65.00</td>\n",
       "      <td>62.55</td>\n",
       "    </tr>\n",
       "    <tr>\n",
       "      <th>1</th>\n",
       "      <td>2019/04/18</td>\n",
       "      <td>2019/04/18 12:30</td>\n",
       "      <td>2904.74</td>\n",
       "      <td>26564.22</td>\n",
       "      <td>7993.30</td>\n",
       "      <td>120.80</td>\n",
       "      <td>54.66</td>\n",
       "      <td>178.05</td>\n",
       "      <td>3991540</td>\n",
       "      <td>62.55</td>\n",
       "      <td>64.87</td>\n",
       "    </tr>\n",
       "    <tr>\n",
       "      <th>2</th>\n",
       "      <td>2019/04/18</td>\n",
       "      <td>2019/04/18 13:30</td>\n",
       "      <td>2905.30</td>\n",
       "      <td>26570.32</td>\n",
       "      <td>7990.27</td>\n",
       "      <td>121.29</td>\n",
       "      <td>54.65</td>\n",
       "      <td>178.36</td>\n",
       "      <td>1504239</td>\n",
       "      <td>64.75</td>\n",
       "      <td>63.15</td>\n",
       "    </tr>\n",
       "    <tr>\n",
       "      <th>3</th>\n",
       "      <td>2019/04/18</td>\n",
       "      <td>2019/04/18 14:30</td>\n",
       "      <td>2906.31</td>\n",
       "      <td>26585.46</td>\n",
       "      <td>7997.15</td>\n",
       "      <td>121.60</td>\n",
       "      <td>54.64</td>\n",
       "      <td>178.35</td>\n",
       "      <td>1098866</td>\n",
       "      <td>63.15</td>\n",
       "      <td>63.11</td>\n",
       "    </tr>\n",
       "    <tr>\n",
       "      <th>4</th>\n",
       "      <td>2019/04/18</td>\n",
       "      <td>2019/04/18 15:30</td>\n",
       "      <td>2906.38</td>\n",
       "      <td>26586.35</td>\n",
       "      <td>7995.29</td>\n",
       "      <td>121.68</td>\n",
       "      <td>54.65</td>\n",
       "      <td>178.18</td>\n",
       "      <td>913495</td>\n",
       "      <td>63.11</td>\n",
       "      <td>63.07</td>\n",
       "    </tr>\n",
       "  </tbody>\n",
       "</table>\n",
       "</div>"
      ],
      "text/plain": [
       "         Date              Time      S&P  Dow_Jones   NASDAQ  \\\n",
       "0  2019/04/18  2019/04/18 11:30  2897.48   26503.69  7972.08   \n",
       "1  2019/04/18  2019/04/18 12:30  2904.74   26564.22  7993.30   \n",
       "2  2019/04/18  2019/04/18 13:30  2905.30   26570.32  7990.27   \n",
       "3  2019/04/18  2019/04/18 14:30  2906.31   26585.46  7997.15   \n",
       "4  2019/04/18  2019/04/18 15:30  2906.38   26586.35  7995.29   \n",
       "\n",
       "   Skype（Microsoft）  Cisco  Facebook  Trading_Volume  Prev_Avg_Price  \\\n",
       "0            120.46  54.51    177.82         6786527           65.00   \n",
       "1            120.80  54.66    178.05         3991540           62.55   \n",
       "2            121.29  54.65    178.36         1504239           64.75   \n",
       "3            121.60  54.64    178.35         1098866           63.15   \n",
       "4            121.68  54.65    178.18          913495           63.11   \n",
       "\n",
       "   True_Price  \n",
       "0       62.55  \n",
       "1       64.87  \n",
       "2       63.15  \n",
       "3       63.11  \n",
       "4       63.07  "
      ]
     },
     "execution_count": 4,
     "metadata": {},
     "output_type": "execute_result"
    }
   ],
   "source": [
    "dataset.head()"
   ]
  },
  {
   "cell_type": "code",
   "execution_count": 5,
   "metadata": {},
   "outputs": [
    {
     "data": {
      "text/plain": [
       "Date                False\n",
       "Time                False\n",
       "S&P                  True\n",
       "Dow_Jones            True\n",
       "NASDAQ               True\n",
       "Skype（Microsoft）    False\n",
       "Cisco               False\n",
       "Facebook            False\n",
       "Trading_Volume      False\n",
       "Prev_Avg_Price      False\n",
       "True_Price          False\n",
       "dtype: bool"
      ]
     },
     "execution_count": 5,
     "metadata": {},
     "output_type": "execute_result"
    }
   ],
   "source": [
    "dataset.isnull().any()"
   ]
  },
  {
   "cell_type": "code",
   "execution_count": 6,
   "metadata": {},
   "outputs": [
    {
     "name": "stderr",
     "output_type": "stream",
     "text": [
      "/Users/a1/anaconda3/lib/python3.7/site-packages/matplotlib/backends/backend_agg.py:211: RuntimeWarning: Glyph 65288 missing from current font.\n",
      "  font.set_text(s, 0.0, flags=flags)\n",
      "/Users/a1/anaconda3/lib/python3.7/site-packages/matplotlib/backends/backend_agg.py:211: RuntimeWarning: Glyph 65289 missing from current font.\n",
      "  font.set_text(s, 0.0, flags=flags)\n",
      "/Users/a1/anaconda3/lib/python3.7/site-packages/matplotlib/backends/backend_agg.py:180: RuntimeWarning: Glyph 65288 missing from current font.\n",
      "  font.set_text(s, 0, flags=flags)\n",
      "/Users/a1/anaconda3/lib/python3.7/site-packages/matplotlib/backends/backend_agg.py:180: RuntimeWarning: Glyph 65289 missing from current font.\n",
      "  font.set_text(s, 0, flags=flags)\n"
     ]
    },
    {
     "data": {
      "image/png": "[encoded data removed]",
      "text/plain": [
       "<Figure size 1440x1080 with 9 Axes>"
      ]
     },
     "metadata": {
      "needs_background": "light"
     },
     "output_type": "display_data"
    }
   ],
   "source": [
    "dataset.hist(bins=50,figsize=(20,15),color='green')\n",
    "plt.show()"
   ]
  },
  {
   "cell_type": "code",
   "execution_count": 7,
   "metadata": {},
   "outputs": [
    {
     "data": {
      "image/png": "[encoded data removed]",
      "text/plain": [
       "<Figure size 432x288 with 1 Axes>"
      ]
     },
     "metadata": {
      "needs_background": "light"
     },
     "output_type": "display_data"
    }
   ],
   "source": [
    "x=dataset['Skype（Microsoft）']\n",
    "y=dataset['Cisco']\n",
    "plt.plot(x,label='Skype（Microsoft）')\n",
    "plt.plot(y,label='Cisco')\n",
    "m=dataset['Facebook']\n",
    "n=dataset['Prev_Avg_Price']\n",
    "plt.plot(m,label='Facebook')\n",
    "plt.plot(n,label='Prev_Avg_Price')\n",
    "plt.legend()\n",
    "plt.show()"
   ]
  },
  {
   "cell_type": "code",
   "execution_count": 8,
   "metadata": {},
   "outputs": [
    {
     "data": {
      "text/plain": [
       "<matplotlib.axes._subplots.AxesSubplot at 0x10d2f5780>"
      ]
     },
     "execution_count": 8,
     "metadata": {},
     "output_type": "execute_result"
    },
    {
     "data": {
      "image/png": "[encoded data removed]",
      "text/plain": [
       "<Figure size 432x288 with 1 Axes>"
      ]
     },
     "metadata": {
      "needs_background": "light"
     },
     "output_type": "display_data"
    }
   ],
   "source": [
    "sns.distplot(dataset['Facebook'],kde=True,bins=10)\n",
    "sns.distplot(dataset['Cisco'],kde=True,bins=10)#both the kde's ovelapped hence teh aveage of both High  and Low lie in similar range"
   ]
  },
  {
   "cell_type": "code",
   "execution_count": 9,
   "metadata": {},
   "outputs": [
    {
     "name": "stdout",
     "output_type": "stream",
     "text": [
      "1\n"
     ]
    }
   ],
   "source": [
    "forecast=int(input())"
   ]
  },
  {
   "cell_type": "code",
   "execution_count": 10,
   "metadata": {},
   "outputs": [
    {
     "name": "stdout",
     "output_type": "stream",
     "text": [
      "   Prev_Avg_Price\n",
      "0           65.00\n",
      "1           62.55\n",
      "2           64.75\n",
      "3           63.15\n",
      "4           63.11\n"
     ]
    }
   ],
   "source": [
    "dataset=dataset[['Prev_Avg_Price']]\n",
    "print(dataset.head())"
   ]
  },
  {
   "cell_type": "code",
   "execution_count": 11,
   "metadata": {},
   "outputs": [],
   "source": [
    "dataset['Prediction']= dataset[['Prev_Avg_Price']].shift(-forecast)"
   ]
  },
  {
   "cell_type": "code",
   "execution_count": 12,
   "metadata": {},
   "outputs": [
    {
     "name": "stdout",
     "output_type": "stream",
     "text": [
      "      Prev_Avg_Price  Prediction\n",
      "1113           70.62       69.68\n",
      "1114           69.68       70.09\n",
      "1115           70.09       70.01\n",
      "1116           70.01       70.06\n",
      "1117           70.06         NaN\n"
     ]
    }
   ],
   "source": [
    "print(dataset.tail())"
   ]
  },
  {
   "cell_type": "code",
   "execution_count": 13,
   "metadata": {},
   "outputs": [],
   "source": [
    "X = np.array(dataset.drop(['Prediction'],1))"
   ]
  },
  {
   "cell_type": "code",
   "execution_count": 14,
   "metadata": {},
   "outputs": [
    {
     "data": {
      "text/html": [
       "<div>\n",
       "<style scoped>\n",
       "    .dataframe tbody tr th:only-of-type {\n",
       "        vertical-align: middle;\n",
       "    }\n",
       "\n",
       "    .dataframe tbody tr th {\n",
       "        vertical-align: top;\n",
       "    }\n",
       "\n",
       "    .dataframe thead th {\n",
       "        text-align: right;\n",
       "    }\n",
       "</style>\n",
       "<table border=\"1\" class=\"dataframe\">\n",
       "  <thead>\n",
       "    <tr style=\"text-align: right;\">\n",
       "      <th></th>\n",
       "      <th>Prev_Avg_Price</th>\n",
       "      <th>Prediction</th>\n",
       "    </tr>\n",
       "  </thead>\n",
       "  <tbody>\n",
       "    <tr>\n",
       "      <th>count</th>\n",
       "      <td>1118.000000</td>\n",
       "      <td>1117.000000</td>\n",
       "    </tr>\n",
       "    <tr>\n",
       "      <th>mean</th>\n",
       "      <td>81.407469</td>\n",
       "      <td>81.422158</td>\n",
       "    </tr>\n",
       "    <tr>\n",
       "      <th>std</th>\n",
       "      <td>13.279672</td>\n",
       "      <td>13.276531</td>\n",
       "    </tr>\n",
       "    <tr>\n",
       "      <th>min</th>\n",
       "      <td>0.000000</td>\n",
       "      <td>0.000000</td>\n",
       "    </tr>\n",
       "    <tr>\n",
       "      <th>25%</th>\n",
       "      <td>71.200000</td>\n",
       "      <td>71.200000</td>\n",
       "    </tr>\n",
       "    <tr>\n",
       "      <th>50%</th>\n",
       "      <td>79.890000</td>\n",
       "      <td>79.920000</td>\n",
       "    </tr>\n",
       "    <tr>\n",
       "      <th>75%</th>\n",
       "      <td>92.185000</td>\n",
       "      <td>92.190000</td>\n",
       "    </tr>\n",
       "    <tr>\n",
       "      <th>max</th>\n",
       "      <td>104.730000</td>\n",
       "      <td>104.730000</td>\n",
       "    </tr>\n",
       "  </tbody>\n",
       "</table>\n",
       "</div>"
      ],
      "text/plain": [
       "       Prev_Avg_Price   Prediction\n",
       "count     1118.000000  1117.000000\n",
       "mean        81.407469    81.422158\n",
       "std         13.279672    13.276531\n",
       "min          0.000000     0.000000\n",
       "25%         71.200000    71.200000\n",
       "50%         79.890000    79.920000\n",
       "75%         92.185000    92.190000\n",
       "max        104.730000   104.730000"
      ]
     },
     "execution_count": 14,
     "metadata": {},
     "output_type": "execute_result"
    }
   ],
   "source": [
    "dataset.describe()"
   ]
  },
  {
   "cell_type": "code",
   "execution_count": 15,
   "metadata": {},
   "outputs": [],
   "source": [
    "X = X[:-forecast]"
   ]
  },
  {
   "cell_type": "code",
   "execution_count": 16,
   "metadata": {},
   "outputs": [],
   "source": [
    "Y = np.array(dataset['Prediction'])"
   ]
  },
  {
   "cell_type": "code",
   "execution_count": 17,
   "metadata": {},
   "outputs": [],
   "source": [
    "Y = Y[:-forecast]"
   ]
  },
  {
   "cell_type": "code",
   "execution_count": 18,
   "metadata": {},
   "outputs": [],
   "source": [
    "x_train, x_test, y_train, y_test = train_test_split(X, Y, test_size=0.2)"
   ]
  },
  {
   "cell_type": "code",
   "execution_count": 19,
   "metadata": {},
   "outputs": [
    {
     "name": "stdout",
     "output_type": "stream",
     "text": [
      "svm confidence:  98.96521997037055 %\n"
     ]
    }
   ],
   "source": [
    "svr_rbf = SVR(kernel='rbf', C=1e3, gamma=0.1)\n",
    "svr_rbf.fit(x_train, y_train)\n",
    "\n",
    "svm_confidence = svr_rbf.score(x_test, y_test)\n",
    "print(\"svm confidence: \", svm_confidence*100,\"%\")\n"
   ]
  },
  {
   "cell_type": "code",
   "execution_count": 20,
   "metadata": {},
   "outputs": [
    {
     "name": "stdout",
     "output_type": "stream",
     "text": [
      "linear regression  confidence:  0.7505643759057831\n"
     ]
    }
   ],
   "source": [
    "linear_reg = LinearRegression()\n",
    "# Train the model\n",
    "linear_reg.fit(x_train, y_train)\n",
    "\n",
    "linear_confidence = linear_reg.score(x_test, y_test)\n",
    "print(\"linear regression  confidence: \", linear_confidence)"
   ]
  },
  {
   "cell_type": "code",
   "execution_count": 21,
   "metadata": {},
   "outputs": [
    {
     "name": "stdout",
     "output_type": "stream",
     "text": [
      "[[70.06]]\n"
     ]
    }
   ],
   "source": [
    "x_forecast = np.array(dataset.drop(['Prediction'],1))[-forecast:]\n",
    "\n",
    "print(x_forecast)"
   ]
  },
  {
   "cell_type": "code",
   "execution_count": 22,
   "metadata": {},
   "outputs": [
    {
     "name": "stdout",
     "output_type": "stream",
     "text": [
      "Linear Model Prediction is : [71.99427117]\n"
     ]
    }
   ],
   "source": [
    "linear_reg_prediction = linear_reg.predict(x_forecast)\n",
    "print('Linear Model Prediction is :',linear_reg_prediction)"
   ]
  },
  {
   "cell_type": "code",
   "execution_count": 23,
   "metadata": {},
   "outputs": [
    {
     "name": "stdout",
     "output_type": "stream",
     "text": [
      "SVM MODEL prediction is :\n",
      "[70.08801919]\n"
     ]
    }
   ],
   "source": [
    "svm_prediction = svr_rbf.predict(x_forecast)\n",
    "print(\"SVM MODEL prediction is :\")\n",
    "print(svm_prediction)"
   ]
  },
  {
   "cell_type": "code",
   "execution_count": 24,
   "metadata": {},
   "outputs": [
    {
     "data": {
      "image/png": "[encoded data removed]",
      "text/plain": [
       "<Figure size 432x288 with 1 Axes>"
      ]
     },
     "metadata": {
      "needs_background": "light"
     },
     "output_type": "display_data"
    }
   ],
   "source": [
    "m=linear_reg_prediction\n",
    "n=svm_prediction\n",
    "plt.plot(m,label='Linear Regession Prediction')\n",
    "plt.plot(n,label='SVM prediction')\n",
    "plt.legend()\n",
    "plt.show()"
   ]
  },
  {
   "cell_type": "code",
   "execution_count": 1,
   "metadata": {},
   "outputs": [],
   "source": [
    "import sys\n",
    "import warnings\n",
    "\n",
    "if not sys.warnoptions:\n",
    "    warnings.simplefilter('ignore')"
   ]
  },
  {
   "cell_type": "code",
   "execution_count": 2,
   "metadata": {},
   "outputs": [],
   "source": [
    "import tensorflow as tf\n",
    "import numpy as np\n",
    "import matplotlib.pyplot as plt\n",
    "import seaborn as sns\n",
    "import pandas as pd\n",
    "from sklearn.preprocessing import MinMaxScaler\n",
    "from datetime import datetime\n",
    "from datetime import timedelta\n",
    "from tqdm import tqdm\n",
    "sns.set()\n",
    "tf.compat.v1.random.set_random_seed(1234)"
   ]
  },
  {
   "cell_type": "code",
   "execution_count": 1,
   "metadata": {},
   "outputs": [
    {
     "name": "stderr",
     "output_type": "stream",
     "text": [
      "Using TensorFlow backend.\n"
     ]
    }
   ],
   "source": [
    "import numpy as np\n",
    "import pandas as pd\n",
    "from sklearn.neural_network import MLPRegressor as mlp\n",
    "from keras.layers import Dense, Dropout, Activation\n",
    "from keras.models import Sequential\n",
    "import matplotlib.pyplot as plt\n",
    "%matplotlib inline"
   ]
  },
  {
   "cell_type": "code",
   "execution_count": 5,
   "metadata": {},
   "outputs": [
    {
     "name": "stdout",
     "output_type": "stream",
     "text": [
      "Collecting keras\n",
      "  Downloading Keras-2.3.1-py2.py3-none-any.whl (377 kB)\n",
      "\u001b[K     |████████████████████████████████| 377 kB 29 kB/s eta 0:00:011\n",
      "\u001b[?25hRequirement already satisfied: keras-applications>=1.0.6 in /Users/a1/.local/lib/python3.7/site-packages (from keras) (1.0.8)\n",
      "Requirement already satisfied: pyyaml in /Users/a1/anaconda3/lib/python3.7/site-packages (from keras) (5.1.1)\n",
      "Requirement already satisfied: keras-preprocessing>=1.0.5 in /Users/a1/.local/lib/python3.7/site-packages (from keras) (1.1.0)\n",
      "Requirement already satisfied: scipy>=0.14 in /Users/a1/anaconda3/lib/python3.7/site-packages (from keras) (1.3.0)\n",
      "Requirement already satisfied: six>=1.9.0 in /Users/a1/anaconda3/lib/python3.7/site-packages (from keras) (1.12.0)\n",
      "Requirement already satisfied: h5py in /Users/a1/anaconda3/lib/python3.7/site-packages (from keras) (2.9.0)\n",
      "Requirement already satisfied: numpy>=1.9.1 in /Users/a1/anaconda3/lib/python3.7/site-packages (from keras) (1.16.4)\n",
      "Installing collected packages: keras\n",
      "Successfully installed keras-2.3.1\n",
      "Note: you may need to restart the kernel to use updated packages.\n"
     ]
    }
   ],
   "source": [
    "pip install keras"
   ]
  },
  {
   "cell_type": "code",
   "execution_count": 58,
   "metadata": {},
   "outputs": [
    {
     "data": {
      "text/html": [
       "<div>\n",
       "<style scoped>\n",
       "    .dataframe tbody tr th:only-of-type {\n",
       "        vertical-align: middle;\n",
       "    }\n",
       "\n",
       "    .dataframe tbody tr th {\n",
       "        vertical-align: top;\n",
       "    }\n",
       "\n",
       "    .dataframe thead th {\n",
       "        text-align: right;\n",
       "    }\n",
       "</style>\n",
       "<table border=\"1\" class=\"dataframe\">\n",
       "  <thead>\n",
       "    <tr style=\"text-align: right;\">\n",
       "      <th></th>\n",
       "      <th>Date</th>\n",
       "      <th>S&amp;P</th>\n",
       "      <th>Dow_Jones</th>\n",
       "      <th>NASDAQ</th>\n",
       "      <th>Skype（Microsoft）</th>\n",
       "      <th>Cisco</th>\n",
       "      <th>Facebook</th>\n",
       "      <th>Trading_Volume</th>\n",
       "      <th>Prev_Avg_Price</th>\n",
       "      <th>True_Price</th>\n",
       "    </tr>\n",
       "  </thead>\n",
       "  <tbody>\n",
       "    <tr>\n",
       "      <th>0</th>\n",
       "      <td>2019/04/18</td>\n",
       "      <td>2897.48</td>\n",
       "      <td>26503.69</td>\n",
       "      <td>7972.08</td>\n",
       "      <td>120.46</td>\n",
       "      <td>54.51</td>\n",
       "      <td>177.82</td>\n",
       "      <td>6786527</td>\n",
       "      <td>65.00</td>\n",
       "      <td>62.55</td>\n",
       "    </tr>\n",
       "    <tr>\n",
       "      <th>1</th>\n",
       "      <td>2019/04/18</td>\n",
       "      <td>2904.74</td>\n",
       "      <td>26564.22</td>\n",
       "      <td>7993.30</td>\n",
       "      <td>120.80</td>\n",
       "      <td>54.66</td>\n",
       "      <td>178.05</td>\n",
       "      <td>3991540</td>\n",
       "      <td>62.55</td>\n",
       "      <td>64.87</td>\n",
       "    </tr>\n",
       "    <tr>\n",
       "      <th>2</th>\n",
       "      <td>2019/04/18</td>\n",
       "      <td>2905.30</td>\n",
       "      <td>26570.32</td>\n",
       "      <td>7990.27</td>\n",
       "      <td>121.29</td>\n",
       "      <td>54.65</td>\n",
       "      <td>178.36</td>\n",
       "      <td>1504239</td>\n",
       "      <td>64.75</td>\n",
       "      <td>63.15</td>\n",
       "    </tr>\n",
       "    <tr>\n",
       "      <th>3</th>\n",
       "      <td>2019/04/18</td>\n",
       "      <td>2906.31</td>\n",
       "      <td>26585.46</td>\n",
       "      <td>7997.15</td>\n",
       "      <td>121.60</td>\n",
       "      <td>54.64</td>\n",
       "      <td>178.35</td>\n",
       "      <td>1098866</td>\n",
       "      <td>63.15</td>\n",
       "      <td>63.11</td>\n",
       "    </tr>\n",
       "    <tr>\n",
       "      <th>4</th>\n",
       "      <td>2019/04/18</td>\n",
       "      <td>2906.38</td>\n",
       "      <td>26586.35</td>\n",
       "      <td>7995.29</td>\n",
       "      <td>121.68</td>\n",
       "      <td>54.65</td>\n",
       "      <td>178.18</td>\n",
       "      <td>913495</td>\n",
       "      <td>63.11</td>\n",
       "      <td>63.07</td>\n",
       "    </tr>\n",
       "  </tbody>\n",
       "</table>\n",
       "</div>"
      ],
      "text/plain": [
       "         Date      S&P  Dow_Jones   NASDAQ  Skype（Microsoft）  Cisco  Facebook  \\\n",
       "0  2019/04/18  2897.48   26503.69  7972.08            120.46  54.51    177.82   \n",
       "1  2019/04/18  2904.74   26564.22  7993.30            120.80  54.66    178.05   \n",
       "2  2019/04/18  2905.30   26570.32  7990.27            121.29  54.65    178.36   \n",
       "3  2019/04/18  2906.31   26585.46  7997.15            121.60  54.64    178.35   \n",
       "4  2019/04/18  2906.38   26586.35  7995.29            121.68  54.65    178.18   \n",
       "\n",
       "   Trading_Volume  Prev_Avg_Price  True_Price  \n",
       "0         6786527           65.00       62.55  \n",
       "1         3991540           62.55       64.87  \n",
       "2         1504239           64.75       63.15  \n",
       "3         1098866           63.15       63.11  \n",
       "4          913495           63.11       63.07  "
      ]
     },
     "execution_count": 58,
     "metadata": {},
     "output_type": "execute_result"
    }
   ],
   "source": [
    "data = pd.read_csv('1111.csv')\n",
    "data.head()"
   ]
  },
  {
   "cell_type": "code",
   "execution_count": 59,
   "metadata": {},
   "outputs": [
    {
     "data": {
      "text/html": [
       "<div>\n",
       "<style scoped>\n",
       "    .dataframe tbody tr th:only-of-type {\n",
       "        vertical-align: middle;\n",
       "    }\n",
       "\n",
       "    .dataframe tbody tr th {\n",
       "        vertical-align: top;\n",
       "    }\n",
       "\n",
       "    .dataframe thead th {\n",
       "        text-align: right;\n",
       "    }\n",
       "</style>\n",
       "<table border=\"1\" class=\"dataframe\">\n",
       "  <thead>\n",
       "    <tr style=\"text-align: right;\">\n",
       "      <th></th>\n",
       "      <th>Date</th>\n",
       "      <th>S&amp;P</th>\n",
       "      <th>Dow_Jones</th>\n",
       "      <th>NASDAQ</th>\n",
       "      <th>Skype（Microsoft）</th>\n",
       "      <th>Cisco</th>\n",
       "      <th>Facebook</th>\n",
       "      <th>Trading_Volume</th>\n",
       "      <th>Prev_Avg_Price</th>\n",
       "      <th>True_Price</th>\n",
       "    </tr>\n",
       "  </thead>\n",
       "  <tbody>\n",
       "    <tr>\n",
       "      <th>1080</th>\n",
       "      <td>2019/12/04</td>\n",
       "      <td>3113.08</td>\n",
       "      <td>27684.15</td>\n",
       "      <td>8567.07</td>\n",
       "      <td>149.01</td>\n",
       "      <td>43.51</td>\n",
       "      <td>198.40</td>\n",
       "      <td>191448</td>\n",
       "      <td>70.62</td>\n",
       "      <td>69.73</td>\n",
       "    </tr>\n",
       "    <tr>\n",
       "      <th>1081</th>\n",
       "      <td>2019/12/04</td>\n",
       "      <td>3114.72</td>\n",
       "      <td>27701.76</td>\n",
       "      <td>8569.69</td>\n",
       "      <td>149.18</td>\n",
       "      <td>43.45</td>\n",
       "      <td>198.84</td>\n",
       "      <td>123225</td>\n",
       "      <td>69.68</td>\n",
       "      <td>70.09</td>\n",
       "    </tr>\n",
       "    <tr>\n",
       "      <th>1082</th>\n",
       "      <td>2019/12/04</td>\n",
       "      <td>3117.85</td>\n",
       "      <td>27708.31</td>\n",
       "      <td>8579.08</td>\n",
       "      <td>149.37</td>\n",
       "      <td>43.38</td>\n",
       "      <td>199.34</td>\n",
       "      <td>80330</td>\n",
       "      <td>70.09</td>\n",
       "      <td>70.01</td>\n",
       "    </tr>\n",
       "    <tr>\n",
       "      <th>1083</th>\n",
       "      <td>2019/12/04</td>\n",
       "      <td>3115.46</td>\n",
       "      <td>27689.86</td>\n",
       "      <td>8572.51</td>\n",
       "      <td>149.32</td>\n",
       "      <td>43.29</td>\n",
       "      <td>198.85</td>\n",
       "      <td>102882</td>\n",
       "      <td>70.01</td>\n",
       "      <td>70.06</td>\n",
       "    </tr>\n",
       "    <tr>\n",
       "      <th>1084</th>\n",
       "      <td>2019/12/04</td>\n",
       "      <td>3112.75</td>\n",
       "      <td>27649.78</td>\n",
       "      <td>8566.67</td>\n",
       "      <td>149.44</td>\n",
       "      <td>43.16</td>\n",
       "      <td>198.71</td>\n",
       "      <td>1101493</td>\n",
       "      <td>70.06</td>\n",
       "      <td>69.96</td>\n",
       "    </tr>\n",
       "  </tbody>\n",
       "</table>\n",
       "</div>"
      ],
      "text/plain": [
       "            Date      S&P  Dow_Jones   NASDAQ  Skype（Microsoft）  Cisco  \\\n",
       "1080  2019/12/04  3113.08   27684.15  8567.07            149.01  43.51   \n",
       "1081  2019/12/04  3114.72   27701.76  8569.69            149.18  43.45   \n",
       "1082  2019/12/04  3117.85   27708.31  8579.08            149.37  43.38   \n",
       "1083  2019/12/04  3115.46   27689.86  8572.51            149.32  43.29   \n",
       "1084  2019/12/04  3112.75   27649.78  8566.67            149.44  43.16   \n",
       "\n",
       "      Facebook  Trading_Volume  Prev_Avg_Price  True_Price  \n",
       "1080    198.40          191448           70.62       69.73  \n",
       "1081    198.84          123225           69.68       70.09  \n",
       "1082    199.34           80330           70.09       70.01  \n",
       "1083    198.85          102882           70.01       70.06  \n",
       "1084    198.71         1101493           70.06       69.96  "
      ]
     },
     "execution_count": 59,
     "metadata": {},
     "output_type": "execute_result"
    }
   ],
   "source": [
    "data.tail()"
   ]
  },
  {
   "cell_type": "code",
   "execution_count": 60,
   "metadata": {},
   "outputs": [
    {
     "data": {
      "text/plain": [
       "(1085, 10)"
      ]
     },
     "execution_count": 60,
     "metadata": {},
     "output_type": "execute_result"
    }
   ],
   "source": [
    "data.shape"
   ]
  },
  {
   "cell_type": "code",
   "execution_count": 61,
   "metadata": {},
   "outputs": [],
   "source": [
    "data= data.values[:, 1:5]"
   ]
  },
  {
   "cell_type": "code",
   "execution_count": 134,
   "metadata": {},
   "outputs": [
    {
     "data": {
      "text/plain": [
       "(1085, 4)"
      ]
     },
     "execution_count": 134,
     "metadata": {},
     "output_type": "execute_result"
    }
   ],
   "source": [
    "data.shape"
   ]
  },
  {
   "cell_type": "code",
   "execution_count": 135,
   "metadata": {},
   "outputs": [],
   "source": [
    "y= data[1:, 3]"
   ]
  },
  {
   "cell_type": "code",
   "execution_count": 136,
   "metadata": {},
   "outputs": [
    {
     "data": {
      "text/plain": [
       "(1084,)"
      ]
     },
     "execution_count": 136,
     "metadata": {},
     "output_type": "execute_result"
    }
   ],
   "source": [
    "y.shape"
   ]
  },
  {
   "cell_type": "code",
   "execution_count": 137,
   "metadata": {},
   "outputs": [],
   "source": [
    "X= data[:1085,:]"
   ]
  },
  {
   "cell_type": "code",
   "execution_count": 138,
   "metadata": {},
   "outputs": [
    {
     "data": {
      "text/plain": [
       "(1085, 4)"
      ]
     },
     "execution_count": 138,
     "metadata": {},
     "output_type": "execute_result"
    }
   ],
   "source": [
    "X.shape"
   ]
  },
  {
   "cell_type": "code",
   "execution_count": 139,
   "metadata": {},
   "outputs": [],
   "source": [
    "y= (y- min(y))/(max(y)- min(y))"
   ]
  },
  {
   "cell_type": "code",
   "execution_count": 140,
   "metadata": {},
   "outputs": [
    {
     "data": {
      "text/plain": [
       "array([0.919350073855244, 0.924963072378139, 0.9234859675036926,\n",
       "       0.9270310192023634], dtype=object)"
      ]
     },
     "execution_count": 140,
     "metadata": {},
     "output_type": "execute_result"
    }
   ],
   "source": [
    "y[1080:]"
   ]
  },
  {
   "cell_type": "code",
   "execution_count": 141,
   "metadata": {},
   "outputs": [],
   "source": [
    "X= (X- np.min(X,axis=0))/(np.max(X, axis=0)-np.min(X,axis=0))"
   ]
  },
  {
   "cell_type": "code",
   "execution_count": 142,
   "metadata": {},
   "outputs": [],
   "source": [
    "split = int(0.8*data.shape[0])\n",
    "X_train = X[:split]\n",
    "X_test = X[split:]\n",
    "\n",
    "y_train = y[:split]\n",
    "y_test = y[split:]"
   ]
  },
  {
   "cell_type": "code",
   "execution_count": 143,
   "metadata": {},
   "outputs": [
    {
     "data": {
      "text/plain": [
       "((868, 4), (868,))"
      ]
     },
     "execution_count": 143,
     "metadata": {},
     "output_type": "execute_result"
    }
   ],
   "source": [
    "X_train.shape, y_train.shape"
   ]
  },
  {
   "cell_type": "code",
   "execution_count": 144,
   "metadata": {},
   "outputs": [
    {
     "data": {
      "text/plain": [
       "((217, 4), (216,))"
      ]
     },
     "execution_count": 144,
     "metadata": {},
     "output_type": "execute_result"
    }
   ],
   "source": [
    "X_test.shape, y_test.shape"
   ]
  },
  {
   "cell_type": "code",
   "execution_count": 145,
   "metadata": {},
   "outputs": [],
   "source": [
    "model= mlp(hidden_layer_sizes=(100, 50), activation='relu', solver='adam', verbose=True)"
   ]
  },
  {
   "cell_type": "code",
   "execution_count": 146,
   "metadata": {},
   "outputs": [
    {
     "name": "stdout",
     "output_type": "stream",
     "text": [
      "Iteration 1, loss = 0.19997923\n",
      "Iteration 2, loss = 0.07927446\n",
      "Iteration 3, loss = 0.01811948\n",
      "Iteration 4, loss = 0.00681365\n",
      "Iteration 5, loss = 0.01350654\n",
      "Iteration 6, loss = 0.01266296\n",
      "Iteration 7, loss = 0.00669801\n",
      "Iteration 8, loss = 0.00442130\n",
      "Iteration 9, loss = 0.00484305\n",
      "Iteration 10, loss = 0.00477135\n",
      "Iteration 11, loss = 0.00386117\n",
      "Iteration 12, loss = 0.00314125\n",
      "Iteration 13, loss = 0.00288809\n",
      "Iteration 14, loss = 0.00254128\n",
      "Iteration 15, loss = 0.00210476\n",
      "Iteration 16, loss = 0.00180101\n",
      "Iteration 17, loss = 0.00160150\n",
      "Iteration 18, loss = 0.00140495\n",
      "Iteration 19, loss = 0.00125632\n",
      "Iteration 20, loss = 0.00110816\n",
      "Iteration 21, loss = 0.00096823\n",
      "Iteration 22, loss = 0.00083490\n",
      "Iteration 23, loss = 0.00071870\n",
      "Iteration 24, loss = 0.00061954\n",
      "Iteration 25, loss = 0.00053270\n",
      "Iteration 26, loss = 0.00046534\n",
      "Iteration 27, loss = 0.00039647\n",
      "Iteration 28, loss = 0.00033986\n",
      "Iteration 29, loss = 0.00030243\n",
      "Iteration 30, loss = 0.00028151\n",
      "Iteration 31, loss = 0.00026303\n",
      "Iteration 32, loss = 0.00025696\n",
      "Iteration 33, loss = 0.00024877\n",
      "Iteration 34, loss = 0.00024584\n",
      "Training loss did not improve more than tol=0.000100 for 10 consecutive epochs. Stopping.\n"
     ]
    },
    {
     "data": {
      "text/plain": [
       "MLPRegressor(activation='relu', alpha=0.0001, batch_size='auto', beta_1=0.9,\n",
       "             beta_2=0.999, early_stopping=False, epsilon=1e-08,\n",
       "             hidden_layer_sizes=(100, 50), learning_rate='constant',\n",
       "             learning_rate_init=0.001, max_iter=200, momentum=0.9,\n",
       "             n_iter_no_change=10, nesterovs_momentum=True, power_t=0.5,\n",
       "             random_state=None, shuffle=True, solver='adam', tol=0.0001,\n",
       "             validation_fraction=0.1, verbose=True, warm_start=False)"
      ]
     },
     "execution_count": 146,
     "metadata": {},
     "output_type": "execute_result"
    }
   ],
   "source": [
    "model.fit(X_train, y_train)"
   ]
  },
  {
   "cell_type": "code",
   "execution_count": 147,
   "metadata": {},
   "outputs": [],
   "source": [
    "y_pred= model.predict(X_test)"
   ]
  },
  {
   "cell_type": "code",
   "execution_count": 149,
   "metadata": {},
   "outputs": [
    {
     "data": {
      "image/png": "[encoded data removed]",
      "text/plain": [
       "<Figure size 432x288 with 1 Axes>"
      ]
     },
     "metadata": {
      "needs_background": "light"
     },
     "output_type": "display_data"
    }
   ],
   "source": [
    "plt.plot(y_pred, 'r-')\n",
    "plt.plot(y_test, 'b-')\n",
    "plt.show()"
   ]
  },
  {
   "cell_type": "code",
   "execution_count": 155,
   "metadata": {},
   "outputs": [
    {
     "data": {
      "text/plain": [
       "array([[2897.48, 26503.69, 7972.08, 120.46],\n",
       "       [2904.74, 26564.22, 7993.3, 120.8],\n",
       "       [2905.3, 26570.32, 7990.27, 121.29],\n",
       "       [2906.31, 26585.46, 7997.15, 121.6],\n",
       "       [2906.38, 26586.35, 7995.29, 121.68],\n",
       "       [2905.03, 26559.54, 7998.06, 121.76]], dtype=object)"
      ]
     },
     "execution_count": 155,
     "metadata": {},
     "output_type": "execute_result"
    }
   ],
   "source": [
    "data[:6, :]"
   ]
  },
  {
   "cell_type": "code",
   "execution_count": 156,
   "metadata": {},
   "outputs": [],
   "source": [
    "y= data[1:, 3]"
   ]
  },
  {
   "cell_type": "code",
   "execution_count": 157,
   "metadata": {},
   "outputs": [],
   "source": [
    "X= data[:1084,:]"
   ]
  },
  {
   "cell_type": "code",
   "execution_count": 158,
   "metadata": {},
   "outputs": [
    {
     "data": {
      "text/plain": [
       "((1084,), (1084, 4))"
      ]
     },
     "execution_count": 158,
     "metadata": {},
     "output_type": "execute_result"
    }
   ],
   "source": [
    "y.shape,X.shape"
   ]
  },
  {
   "cell_type": "code",
   "execution_count": 159,
   "metadata": {},
   "outputs": [],
   "source": [
    "y= (y- min(y))/(max(y)- min(y))"
   ]
  },
  {
   "cell_type": "code",
   "execution_count": 160,
   "metadata": {},
   "outputs": [],
   "source": [
    "X= (X- np.min(X,axis=0))/(np.max(X, axis=0)-np.min(X,axis=0))"
   ]
  },
  {
   "cell_type": "code",
   "execution_count": 161,
   "metadata": {},
   "outputs": [
    {
     "data": {
      "text/plain": [
       "((985, 100, 4), (985,))"
      ]
     },
     "execution_count": 161,
     "metadata": {},
     "output_type": "execute_result"
    }
   ],
   "source": [
    "time_steps= 100\n",
    "X_new= np.zeros((X.shape[0] - time_steps +1, 100, X.shape[1]))\n",
    "y_new= np.zeros((y.shape[0] -time_steps +1,))\n",
    "for ix in range(X_new.shape[0]):\n",
    "    for jx in range(time_steps):\n",
    "        X_new[ix, jx, :]= X[ix +jx, :]\n",
    "    y_new[ix]= y[ix + time_steps -1]\n",
    "X_new.shape, y_new.shape"
   ]
  },
  {
   "cell_type": "code",
   "execution_count": 162,
   "metadata": {},
   "outputs": [
    {
     "data": {
      "text/plain": [
       "((117, 100, 4), (117,))"
      ]
     },
     "execution_count": 162,
     "metadata": {},
     "output_type": "execute_result"
    }
   ],
   "source": [
    "split = int(0.8*data.shape[0])\n",
    "X_train = X_new[:split]\n",
    "X_test = X_new[split:]\n",
    "\n",
    "y_train = y_new[:split]\n",
    "y_test = y_new[split:]\n",
    "\n",
    "X_train.shape, y_train.shape\n",
    "X_test.shape, y_test.shape"
   ]
  },
  {
   "cell_type": "code",
   "execution_count": 164,
   "metadata": {},
   "outputs": [],
   "source": [
    "import numpy as np\n",
    "import pandas as pd\n",
    "from keras.layers import Dense, Dropout, Activation, LSTM, Convolution1D, MaxPooling1D\n",
    "from keras.models import Sequential\n",
    "import matplotlib.pyplot as plt\n",
    "%matplotlib inline"
   ]
  },
  {
   "cell_type": "code",
   "execution_count": 165,
   "metadata": {},
   "outputs": [
    {
     "name": "stdout",
     "output_type": "stream",
     "text": [
      "Model: \"sequential_2\"\n",
      "_________________________________________________________________\n",
      "Layer (type)                 Output Shape              Param #   \n",
      "=================================================================\n",
      "lstm_1 (LSTM)                (None, 100, 100)          42000     \n",
      "_________________________________________________________________\n",
      "dropout_1 (Dropout)          (None, 100, 100)          0         \n",
      "_________________________________________________________________\n",
      "lstm_2 (LSTM)                (None, 50)                30200     \n",
      "_________________________________________________________________\n",
      "dropout_2 (Dropout)          (None, 50)                0         \n",
      "_________________________________________________________________\n",
      "dense_1 (Dense)              (None, 1)                 51        \n",
      "_________________________________________________________________\n",
      "activation_1 (Activation)    (None, 1)                 0         \n",
      "=================================================================\n",
      "Total params: 72,251\n",
      "Trainable params: 72,251\n",
      "Non-trainable params: 0\n",
      "_________________________________________________________________\n"
     ]
    },
    {
     "name": "stderr",
     "output_type": "stream",
     "text": [
      "/Users/a1/anaconda3/lib/python3.7/site-packages/ipykernel_launcher.py:6: UserWarning: Update your `Dense` call to the Keras 2 API: `Dense(units=1)`\n",
      "  \n"
     ]
    }
   ],
   "source": [
    "model = Sequential()\n",
    "model.add(LSTM(100, input_shape= (100,4), return_sequences=True))\n",
    "model.add(Dropout(0.2))\n",
    "model.add(LSTM(50, return_sequences=False))\n",
    "model.add(Dropout(0.2))\n",
    "model.add(Dense(output_dim=1))\n",
    "model.add(Activation('linear'))\n",
    "\n",
    "model.summary()"
   ]
  },
  {
   "cell_type": "code",
   "execution_count": 166,
   "metadata": {},
   "outputs": [],
   "source": [
    "model.compile(loss='mse', optimizer='rmsprop', metrics=['accuracy'])"
   ]
  },
  {
   "cell_type": "code",
   "execution_count": 167,
   "metadata": {},
   "outputs": [
    {
     "name": "stderr",
     "output_type": "stream",
     "text": [
      "/Users/a1/anaconda3/lib/python3.7/site-packages/ipykernel_launcher.py:1: UserWarning: The `nb_epoch` argument in `fit` has been renamed `epochs`.\n",
      "  \"\"\"Entry point for launching an IPython kernel.\n"
     ]
    },
    {
     "name": "stdout",
     "output_type": "stream",
     "text": [
      "WARNING:tensorflow:From /Users/a1/anaconda3/lib/python3.7/site-packages/keras/backend/tensorflow_backend.py:422: The name tf.global_variables is deprecated. Please use tf.compat.v1.global_variables instead.\n",
      "\n",
      "Train on 868 samples, validate on 117 samples\n",
      "Epoch 1/50\n",
      " - 3s - loss: 0.0952 - accuracy: 0.0012 - val_loss: 0.0215 - val_accuracy: 0.0085\n",
      "Epoch 2/50\n",
      " - 2s - loss: 0.0099 - accuracy: 0.0012 - val_loss: 0.0167 - val_accuracy: 0.0085\n",
      "Epoch 3/50\n",
      " - 2s - loss: 0.0098 - accuracy: 0.0012 - val_loss: 0.0060 - val_accuracy: 0.0085\n",
      "Epoch 4/50\n",
      " - 2s - loss: 0.0091 - accuracy: 0.0012 - val_loss: 0.0085 - val_accuracy: 0.0085\n",
      "Epoch 5/50\n",
      " - 2s - loss: 0.0098 - accuracy: 0.0012 - val_loss: 0.0012 - val_accuracy: 0.0085\n",
      "Epoch 6/50\n",
      " - 2s - loss: 0.0154 - accuracy: 0.0012 - val_loss: 0.0011 - val_accuracy: 0.0085\n",
      "Epoch 7/50\n",
      " - 2s - loss: 0.0099 - accuracy: 0.0012 - val_loss: 0.0021 - val_accuracy: 0.0085\n",
      "Epoch 8/50\n",
      " - 2s - loss: 0.0093 - accuracy: 0.0012 - val_loss: 0.0010 - val_accuracy: 0.0085\n",
      "Epoch 9/50\n",
      " - 2s - loss: 0.0131 - accuracy: 0.0012 - val_loss: 0.0017 - val_accuracy: 0.0085\n",
      "Epoch 10/50\n",
      " - 2s - loss: 0.0085 - accuracy: 0.0012 - val_loss: 0.0031 - val_accuracy: 0.0085\n",
      "Epoch 11/50\n",
      " - 2s - loss: 0.0091 - accuracy: 0.0012 - val_loss: 0.0012 - val_accuracy: 0.0085\n",
      "Epoch 12/50\n",
      " - 2s - loss: 0.0070 - accuracy: 0.0012 - val_loss: 0.0014 - val_accuracy: 0.0085\n",
      "Epoch 13/50\n",
      " - 2s - loss: 0.0109 - accuracy: 0.0012 - val_loss: 0.0028 - val_accuracy: 0.0085\n",
      "Epoch 14/50\n",
      " - 2s - loss: 0.0064 - accuracy: 0.0012 - val_loss: 0.0011 - val_accuracy: 0.0085\n",
      "Epoch 15/50\n",
      " - 2s - loss: 0.0086 - accuracy: 0.0012 - val_loss: 0.0018 - val_accuracy: 0.0085\n",
      "Epoch 16/50\n",
      " - 2s - loss: 0.0063 - accuracy: 0.0012 - val_loss: 0.0028 - val_accuracy: 0.0085\n",
      "Epoch 17/50\n",
      " - 2s - loss: 0.0105 - accuracy: 0.0012 - val_loss: 0.0018 - val_accuracy: 0.0085\n",
      "Epoch 18/50\n",
      " - 2s - loss: 0.0061 - accuracy: 0.0012 - val_loss: 0.0064 - val_accuracy: 0.0085\n",
      "Epoch 19/50\n",
      " - 2s - loss: 0.0046 - accuracy: 0.0012 - val_loss: 7.2948e-04 - val_accuracy: 0.0085\n",
      "Epoch 20/50\n",
      " - 2s - loss: 0.0117 - accuracy: 0.0012 - val_loss: 0.0068 - val_accuracy: 0.0085\n",
      "Epoch 21/50\n",
      " - 2s - loss: 0.0047 - accuracy: 0.0012 - val_loss: 0.0070 - val_accuracy: 0.0085\n",
      "Epoch 22/50\n",
      " - 2s - loss: 0.0047 - accuracy: 0.0012 - val_loss: 0.0013 - val_accuracy: 0.0085\n",
      "Epoch 23/50\n",
      " - 2s - loss: 0.0095 - accuracy: 0.0012 - val_loss: 0.0016 - val_accuracy: 0.0085\n",
      "Epoch 24/50\n",
      " - 2s - loss: 0.0047 - accuracy: 0.0012 - val_loss: 0.0064 - val_accuracy: 0.0085\n",
      "Epoch 25/50\n",
      " - 2s - loss: 0.0039 - accuracy: 0.0012 - val_loss: 0.0041 - val_accuracy: 0.0085\n",
      "Epoch 26/50\n",
      " - 2s - loss: 0.0122 - accuracy: 0.0012 - val_loss: 0.0041 - val_accuracy: 0.0085\n",
      "Epoch 27/50\n",
      " - 2s - loss: 0.0045 - accuracy: 0.0012 - val_loss: 0.0125 - val_accuracy: 0.0085\n",
      "Epoch 28/50\n",
      " - 2s - loss: 0.0050 - accuracy: 0.0012 - val_loss: 0.0403 - val_accuracy: 0.0085\n",
      "Epoch 29/50\n",
      " - 2s - loss: 0.0083 - accuracy: 0.0012 - val_loss: 0.0297 - val_accuracy: 0.0085\n",
      "Epoch 30/50\n",
      " - 2s - loss: 0.0057 - accuracy: 0.0012 - val_loss: 0.0229 - val_accuracy: 0.0085\n",
      "Epoch 31/50\n",
      " - 2s - loss: 0.0051 - accuracy: 0.0012 - val_loss: 0.0298 - val_accuracy: 0.0085\n",
      "Epoch 32/50\n",
      " - 2s - loss: 0.0070 - accuracy: 0.0012 - val_loss: 0.0245 - val_accuracy: 0.0085\n",
      "Epoch 33/50\n",
      " - 2s - loss: 0.0050 - accuracy: 0.0012 - val_loss: 0.0332 - val_accuracy: 0.0085\n",
      "Epoch 34/50\n",
      " - 2s - loss: 0.0069 - accuracy: 0.0012 - val_loss: 0.0226 - val_accuracy: 0.0085\n",
      "Epoch 35/50\n",
      " - 2s - loss: 0.0054 - accuracy: 0.0012 - val_loss: 0.0200 - val_accuracy: 0.0085\n",
      "Epoch 36/50\n",
      " - 2s - loss: 0.0048 - accuracy: 0.0012 - val_loss: 0.0224 - val_accuracy: 0.0085\n",
      "Epoch 37/50\n",
      " - 2s - loss: 0.0047 - accuracy: 0.0012 - val_loss: 0.0281 - val_accuracy: 0.0085\n",
      "Epoch 38/50\n",
      " - 2s - loss: 0.0076 - accuracy: 0.0012 - val_loss: 0.0183 - val_accuracy: 0.0085\n",
      "Epoch 39/50\n",
      " - 2s - loss: 0.0041 - accuracy: 0.0012 - val_loss: 0.0198 - val_accuracy: 0.0085\n",
      "Epoch 40/50\n",
      " - 2s - loss: 0.0047 - accuracy: 0.0012 - val_loss: 0.0222 - val_accuracy: 0.0085\n",
      "Epoch 41/50\n",
      " - 2s - loss: 0.0053 - accuracy: 0.0012 - val_loss: 0.0202 - val_accuracy: 0.0085\n",
      "Epoch 42/50\n",
      " - 2s - loss: 0.0055 - accuracy: 0.0012 - val_loss: 0.0417 - val_accuracy: 0.0085\n",
      "Epoch 43/50\n",
      " - 2s - loss: 0.0057 - accuracy: 0.0012 - val_loss: 0.0204 - val_accuracy: 0.0085\n",
      "Epoch 44/50\n",
      " - 2s - loss: 0.0045 - accuracy: 0.0012 - val_loss: 0.0166 - val_accuracy: 0.0085\n",
      "Epoch 45/50\n",
      " - 2s - loss: 0.0045 - accuracy: 0.0012 - val_loss: 0.0323 - val_accuracy: 0.0085\n",
      "Epoch 46/50\n",
      " - 2s - loss: 0.0059 - accuracy: 0.0012 - val_loss: 0.0152 - val_accuracy: 0.0085\n",
      "Epoch 47/50\n",
      " - 2s - loss: 0.0035 - accuracy: 0.0012 - val_loss: 0.0096 - val_accuracy: 0.0085\n",
      "Epoch 48/50\n",
      " - 2s - loss: 0.0039 - accuracy: 0.0012 - val_loss: 0.0588 - val_accuracy: 0.0085\n",
      "Epoch 49/50\n",
      " - 2s - loss: 0.0082 - accuracy: 0.0012 - val_loss: 0.0152 - val_accuracy: 0.0085\n",
      "Epoch 50/50\n",
      " - 2s - loss: 0.0036 - accuracy: 0.0012 - val_loss: 0.0052 - val_accuracy: 0.0085\n"
     ]
    },
    {
     "data": {
      "text/plain": [
       "<keras.callbacks.callbacks.History at 0x1a31163470>"
      ]
     },
     "execution_count": 167,
     "metadata": {},
     "output_type": "execute_result"
    }
   ],
   "source": [
    "model.fit(X_train, y_train, batch_size=256, nb_epoch=50, validation_data = (X_test, y_test), verbose=2)"
   ]
  },
  {
   "cell_type": "code",
   "execution_count": 168,
   "metadata": {},
   "outputs": [
    {
     "name": "stdout",
     "output_type": "stream",
     "text": [
      "\r",
      "117/117 [==============================] - 0s 721us/step\n"
     ]
    }
   ],
   "source": [
    "score= model.evaluate(X_test, y_test, batch_size=256)"
   ]
  },
  {
   "cell_type": "code",
   "execution_count": 169,
   "metadata": {},
   "outputs": [
    {
     "data": {
      "text/plain": [
       "[0.005217383150011301, 0.008547008968889713]"
      ]
     },
     "execution_count": 169,
     "metadata": {},
     "output_type": "execute_result"
    }
   ],
   "source": [
    "score"
   ]
  },
  {
   "cell_type": "code",
   "execution_count": 170,
   "metadata": {},
   "outputs": [],
   "source": [
    "y_pred= model.predict(X_test)"
   ]
  },
  {
   "cell_type": "code",
   "execution_count": 171,
   "metadata": {},
   "outputs": [
    {
     "data": {
      "image/png": "[encoded data removed]",
      "text/plain": [
       "<Figure size 432x288 with 1 Axes>"
      ]
     },
     "metadata": {
      "needs_background": "light"
     },
     "output_type": "display_data"
    }
   ],
   "source": [
    "plt.plot(y_pred, 'r-')\n",
    "plt.plot(y_test, 'b-')\n",
    "plt.show()"
   ]
  },
  {
   "cell_type": "code",
   "execution_count": null,
   "metadata": {},
   "outputs": [],
   "source": []
  }
 ],
 "metadata": {
  "kernelspec": {
   "display_name": "Python 3",
   "language": "python",
   "name": "python3"
  },
  "language_info": {
   "codemirror_mode": {
    "name": "ipython",
    "version": 3
   },
   "file_extension": ".py",
   "mimetype": "text/x-python",
   "name": "python",
   "nbconvert_exporter": "python",
   "pygments_lexer": "ipython3",
   "version": "3.7.3"
  }
 },
 "nbformat": 4,
 "nbformat_minor": 2
}
